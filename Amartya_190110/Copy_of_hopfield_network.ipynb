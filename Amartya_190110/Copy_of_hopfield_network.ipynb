{
  "nbformat": 4,
  "nbformat_minor": 5,
  "metadata": {
    "kernelspec": {
      "display_name": "Python 3",
      "language": "python",
      "name": "python3"
    },
    "language_info": {
      "codemirror_mode": {
        "name": "ipython",
        "version": 3
      },
      "file_extension": ".py",
      "mimetype": "text/x-python",
      "name": "python",
      "nbconvert_exporter": "python",
      "pygments_lexer": "ipython3",
      "version": "3.9.1"
    },
    "colab": {
      "name": "Copy of hopfield_network.ipynb",
      "provenance": []
    }
  },
  "cells": [
    {
      "cell_type": "code",
      "metadata": {
        "id": "normal-princess"
      },
      "source": [
        "import numpy as np\n",
        "import pandas as pd\n",
        "import matplotlib.pyplot as plt\n",
        "plt.style.use('fivethirtyeight')\n",
        "from copy import deepcopy"
      ],
      "id": "normal-princess",
      "execution_count": null,
      "outputs": []
    },
    {
      "cell_type": "code",
      "metadata": {
        "id": "wooden-stamp"
      },
      "source": [
        "!pip install brian2\n",
        "!pip install neurodynex3\n",
        "from brian2 import *"
      ],
      "id": "wooden-stamp",
      "execution_count": null,
      "outputs": []
    },
    {
      "cell_type": "markdown",
      "metadata": {
        "id": "based-kelly"
      },
      "source": [
        "## Hopfield network model"
      ],
      "id": "based-kelly"
    },
    {
      "cell_type": "markdown",
      "metadata": {
        "id": "accessory-generic"
      },
      "source": [
        "In this simplified Hopfied model, each neuron can only take values +1 or -1. The network stores pixel patterns, and attempts to retrieve them given some cue in the form of a part of the original pattern used to set an initial state $S_i(t=0)$ for every neuron in the network. The network activation of all the neurons evolves as follows\n",
        "\n",
        "$$S_i(t+1) = sgn\\left(\\sum_j{w_{ij} S_j(t)}\\right), $$\n",
        "\n",
        "where the weight of every synaptic connection is calculated as,\n",
        "\n",
        "$$w_{ij} = \\frac{1}{N} \\sum_{\\mu}{p_i^\\mu p_j^\\mu}, $$\n",
        "\n",
        "where in turn, $N$ is the number of neurons, and $p_i^\\mu$ is the state of the $i^{th}$ neuron for encoding pattern $\\mu$."
      ],
      "id": "accessory-generic"
    },
    {
      "cell_type": "markdown",
      "metadata": {
        "id": "false-earth"
      },
      "source": [
        "The code below is taken from this [link](https://neuronaldynamics-exercises.readthedocs.io/en/latest/exercises/hopfield-network.html). Follow the accompanying exercises to be better prepared for your assignment. Remember to install all needed libraries before trying to run it. "
      ],
      "id": "false-earth"
    },
    {
      "cell_type": "code",
      "metadata": {
        "id": "several-documentation"
      },
      "source": [
        "%matplotlib inline\n",
        "from neurodynex3.hopfield_network import network, pattern_tools, plot_tools\n",
        "\n",
        "pattern_size = 4\n",
        "\n",
        "# create an instance of the class HopfieldNetwork\n",
        "hopfield_net = network.HopfieldNetwork(nr_neurons= pattern_size**2)\n",
        "# instantiate a pattern factory\n",
        "factory = pattern_tools.PatternFactory(pattern_size, pattern_size)\n",
        "# create a checkerboard pattern and add it to the pattern list\n",
        "checkerboard = factory.create_checkerboard()\n",
        "pattern_list = [checkerboard]\n",
        "\n",
        "# add random patterns to the list\n",
        "pattern_list.extend(factory.create_random_pattern_list(nr_patterns=4, on_probability=0.5))\n",
        "plot_tools.plot_pattern_list(pattern_list)\n",
        "# how similar are the random patterns and the checkerboard? Check the overlaps\n",
        "overlap_matrix = pattern_tools.compute_overlap_matrix(pattern_list)\n",
        "#plot_tools.plot_overlap_matrix(overlap_matrix)\n",
        "\n",
        "# let the hopfield network \"learn\" the patterns. Note: they are not stored\n",
        "# explicitly but only network weights are updated !\n",
        "hopfield_net.store_patterns(pattern_list)\n",
        "\n",
        "# create a noisy version of a pattern and use that to initialize the network\n",
        "noisy_init_state = pattern_tools.flip_n(checkerboard, nr_of_flips=4)\n",
        "hopfield_net.set_state_from_pattern(noisy_init_state)\n",
        "\n",
        "# from this initial state, let the network dynamics evolve.\n",
        "states = hopfield_net.run_with_monitoring(nr_steps=3)\n",
        "\n",
        "# each network state is a vector. reshape it to the same shape used to create the patterns.\n",
        "states_as_patterns = factory.reshape_patterns(states)\n",
        "# plot the states of the network\n",
        "plot_tools.plot_state_sequence_and_overlap(states_as_patterns, pattern_list, reference_idx=0, suptitle=\"Network dynamics\")\n"
      ],
      "id": "several-documentation",
      "execution_count": null,
      "outputs": []
    },
    {
      "cell_type": "markdown",
      "metadata": {
        "id": "upset-embassy"
      },
      "source": [
        "## Our own Hopfield network model"
      ],
      "id": "upset-embassy"
    },
    {
      "cell_type": "markdown",
      "metadata": {
        "id": "spectacular-morocco"
      },
      "source": [
        "You will write your own code to build a Hopfield network. I am leaving sample expected results below as a guide. \n",
        "\n",
        "You are free to use your own functions, no need to follow the guide  \n",
        "Function  \n",
        "1. get_patterns()  \n",
        "2. perturb_pattern()  \n",
        "3. calculate_weights()  \n",
        "4. network_evolution()  \n",
        "5. run_network()"
      ],
      "id": "spectacular-morocco"
    },
    {
      "cell_type": "code",
      "metadata": {
        "id": "UgqkH16Uky82"
      },
      "source": [
        "plist = get_patterns(4,5)\n",
        "#plot_tools.plot_pattern_list(plist)\n",
        "\n",
        "cue = deepcopy(plist)\n",
        "#print(plist[0])\n",
        "\n",
        "S = perturb_pattern(cue[0],3)\n",
        "wghts = calculate_weights(plist, 4, 5)\n",
        "#print(wghts)\n",
        "#print(wghts[15][15])\n",
        "state_list =[S]\n",
        "#state_list.append(S)\n",
        "#print(state_list)\n",
        "#plot_tools.plot_pattern(S)\n",
        "for i in range(3):\n",
        "    state_list.append(network_evolution(S,wghts))\n",
        "    S = state_list[i+1]\n",
        "#    state_list.append(S)\n",
        "\n",
        "plot_tools.plot_pattern_list(plist)\n",
        "#print(state_list[0])\n",
        "for i in range(4):\n",
        "  state_list[i] = state_list[i].reshape(4,4)\n",
        "\n",
        "plot_tools.plot_pattern(state_list[3].reshape(4,4))\n",
        "plot_tools.plot_state_sequence_and_overlap(state_list, plist, reference_idx=0, suptitle=\"Network dynamics\")"
      ],
      "id": "UgqkH16Uky82",
      "execution_count": null,
      "outputs": []
    },
    {
      "cell_type": "markdown",
      "metadata": {
        "id": "involved-batman"
      },
      "source": [
        "## Assignment 1"
      ],
      "id": "involved-batman"
    },
    {
      "cell_type": "markdown",
      "metadata": {
        "id": "uniform-samuel"
      },
      "source": [
        "Q1. Can you write you own Hopfield network model that works more or less like the one simulated above?\n",
        "\n",
        "Q2. Run the model with different parameters to figure out how the model's capacity to retrieve the correct pattern in response to a cue deteriorates as a function of   \n",
        "(a) the informativeness of the cue  \n",
        "(b) the number of other patterns stored in the network  \n",
        "(c) the size of the network  \n",
        "\n",
        "Present your answers with plots and/or math.\n",
        "\n",
        "You can use plot_tools as is"
      ],
      "id": "uniform-samuel"
    },
    {
      "cell_type": "code",
      "metadata": {
        "id": "secure-barbados"
      },
      "source": [
        "def get_patterns(size,num):\n",
        "    pl=[];\n",
        "    for i in range(0,num):\n",
        "       temp=(np.random.choice([-1,1],size=(size*size)))\n",
        "       temp= temp.reshape(size,size)\n",
        "       pl.append(temp)\n",
        "    return pl"
      ],
      "id": "secure-barbados",
      "execution_count": null,
      "outputs": []
    },
    {
      "cell_type": "code",
      "metadata": {
        "id": "arMnb_GLDCEq"
      },
      "source": [
        "def perturb_pattern(x,n):\n",
        "    m = np.product(x.shape)\n",
        "    x.ravel()[np.random.randint(0, m, size=n)] = 0\n",
        "    return x"
      ],
      "id": "arMnb_GLDCEq",
      "execution_count": null,
      "outputs": []
    },
    {
      "cell_type": "code",
      "metadata": {
        "id": "A03hU030Da5T"
      },
      "source": [
        "def calculate_weights(plist, n):\n",
        "  n=n**2\n",
        "  w = np.zeros((n,n))\n",
        "  # print(w)\n",
        "  #print(len(plist))\n",
        "  for i in range(0,n):\n",
        "    for j in range(0,n):\n",
        "      for p in plist:\n",
        "         p=p.flatten();\n",
        "         w[i][j]+=p[i]*p[j]\n",
        "  w=w/n\n",
        "  return w"
      ],
      "id": "A03hU030Da5T",
      "execution_count": null,
      "outputs": []
    },
    {
      "cell_type": "code",
      "metadata": {
        "id": "UlNroKMkDgGS"
      },
      "source": [
        "def network_evolution(S,w):\n",
        "  s=S.shape\n",
        "  n=S.shape[0]\n",
        "  n=n*n\n",
        "  a=np.zeros(n)\n",
        "  S=S.flatten()\n",
        "  for i in range(0,n):\n",
        "    for j in range(0,n):\n",
        "      a[i]+= w[i][j]*S[j]\n",
        "  S=np.reshape(a,s)\n",
        "  S= np.sign(S)    \n",
        "  return S"
      ],
      "id": "UlNroKMkDgGS",
      "execution_count": null,
      "outputs": []
    },
    {
      "cell_type": "code",
      "metadata": {
        "id": "BA-bvYA7D5_i"
      },
      "source": [
        "plist = get_patterns(4,5)\n",
        "#plot_tools.plot_pattern_list(plist)\n",
        "\n",
        "cue = deepcopy(plist)\n",
        "\n",
        "S = perturb_pattern(cue[0],10)\n",
        "wghts = calculate_weights(plist, pattern_size)\n",
        "print(wghts)\n",
        "state_list =[S]\n",
        "#state_list.append(S)\n",
        "#print(state_list)\n",
        "#plot_tools.plot_pattern(S)\n",
        "print(network_evolution(S,wghts))\n",
        "for i in range(3):\n",
        "    state_list.append(network_evolution(S,wghts))\n",
        "#    state_list.append(S)\n",
        "\n",
        "plot_tools.plot_pattern_list(plist)\n",
        "#print(state_list[0])\n",
        "plot_tools.plot_pattern(state_list[0])\n",
        "plot_tools.plot_state_sequence_and_overlap(state_list, plist, reference_idx=0, suptitle=\"Network dynamics\")"
      ],
      "id": "BA-bvYA7D5_i",
      "execution_count": null,
      "outputs": []
    },
    {
      "cell_type": "code",
      "metadata": {
        "id": "Q52Y0qhwEZmx"
      },
      "source": [
        "def run_network(pattern_size,pattern_num,noise_flip,iter):\n",
        "  plist = get_patterns(pattern_size,pattern_num)\n",
        "  #plot_tools.plot_pattern_list(plist)\n",
        "\n",
        "  cue = deepcopy(plist)\n",
        "  S = perturb_pattern(cue[0],noise_flip)\n",
        "\n",
        "  state_list=[S]\n",
        "  plot_tools.plot_pattern(S)\n",
        "  wghts=calculate_weights(plist, pattern_size)\n",
        "  # print(S)\n",
        "  for i in range(iter):\n",
        "       S=network_evolution(S,wghts)\n",
        "       #  print(S)\n",
        "       state_list.append(S)\n",
        "  plot_tools.plot_pattern_list(plist)\n",
        "  #print(state_list[0])\n",
        "  #plot_tools.plot_pattern(state_list[0])\n",
        "  plot_tools.plot_state_sequence_and_overlap(state_list, plist, reference_idx=0, suptitle=\"Network dynamics\")"
      ],
      "id": "Q52Y0qhwEZmx",
      "execution_count": null,
      "outputs": []
    },
    {
      "cell_type": "code",
      "metadata": {
        "id": "ruzg_BfyFBWU"
      },
      "source": [
        "run_network(20,20,170,4)"
      ],
      "id": "ruzg_BfyFBWU",
      "execution_count": null,
      "outputs": []
    },
    {
      "cell_type": "code",
      "metadata": {
        "id": "ARDS324dmLAL"
      },
      "source": [
        ""
      ],
      "id": "ARDS324dmLAL",
      "execution_count": null,
      "outputs": []
    }
  ]
}