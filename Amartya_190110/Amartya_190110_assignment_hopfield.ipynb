{
  "nbformat": 4,
  "nbformat_minor": 5,
  "metadata": {
    "kernelspec": {
      "display_name": "Python 3",
      "language": "python",
      "name": "python3"
    },
    "language_info": {
      "codemirror_mode": {
        "name": "ipython",
        "version": 3
      },
      "file_extension": ".py",
      "mimetype": "text/x-python",
      "name": "python",
      "nbconvert_exporter": "python",
      "pygments_lexer": "ipython3",
      "version": "3.9.1"
    },
    "colab": {
      "name": "Amartya_190110_assignment_hopfield.ipynb",
      "provenance": []
    }
  },
  "cells": [
    {
      "cell_type": "code",
      "metadata": {
        "id": "normal-princess"
      },
      "source": [
        "import numpy as np\n",
        "import pandas as pd\n",
        "import matplotlib.pyplot as plt\n",
        "plt.style.use('fivethirtyeight')\n",
        "from copy import deepcopy"
      ],
      "id": "normal-princess",
      "execution_count": 1,
      "outputs": []
    },
    {
      "cell_type": "code",
      "metadata": {
        "id": "wooden-stamp",
        "colab": {
          "base_uri": "https://localhost:8080/"
        },
        "outputId": "d87a1c27-e763-4a2b-facf-fa395e96edb7"
      },
      "source": [
        "!pip install brian2\n",
        "!pip install neurodynex3\n",
        "from brian2 import *"
      ],
      "id": "wooden-stamp",
      "execution_count": 2,
      "outputs": [
        {
          "output_type": "stream",
          "text": [
            "Collecting brian2\n",
            "\u001b[?25l  Downloading https://files.pythonhosted.org/packages/9a/c7/565012c479953d041d5e828938515d3c402d0c3f4942180f1c44cb0f472e/Brian2-2.4.2.tar.gz (1.2MB)\n",
            "\r\u001b[K     |▎                               | 10kB 6.3MB/s eta 0:00:01\r\u001b[K     |▋                               | 20kB 8.7MB/s eta 0:00:01\r\u001b[K     |▉                               | 30kB 7.5MB/s eta 0:00:01\r\u001b[K     |█▏                              | 40kB 8.1MB/s eta 0:00:01\r\u001b[K     |█▍                              | 51kB 5.3MB/s eta 0:00:01\r\u001b[K     |█▊                              | 61kB 6.2MB/s eta 0:00:01\r\u001b[K     |██                              | 71kB 7.0MB/s eta 0:00:01\r\u001b[K     |██▎                             | 81kB 7.7MB/s eta 0:00:01\r\u001b[K     |██▋                             | 92kB 6.4MB/s eta 0:00:01\r\u001b[K     |██▉                             | 102kB 7.0MB/s eta 0:00:01\r\u001b[K     |███▏                            | 112kB 7.0MB/s eta 0:00:01\r\u001b[K     |███▍                            | 122kB 7.0MB/s eta 0:00:01\r\u001b[K     |███▊                            | 133kB 7.0MB/s eta 0:00:01\r\u001b[K     |████                            | 143kB 7.0MB/s eta 0:00:01\r\u001b[K     |████▎                           | 153kB 7.0MB/s eta 0:00:01\r\u001b[K     |████▋                           | 163kB 7.0MB/s eta 0:00:01\r\u001b[K     |████▉                           | 174kB 7.0MB/s eta 0:00:01\r\u001b[K     |█████▏                          | 184kB 7.0MB/s eta 0:00:01\r\u001b[K     |█████▍                          | 194kB 7.0MB/s eta 0:00:01\r\u001b[K     |█████▊                          | 204kB 7.0MB/s eta 0:00:01\r\u001b[K     |██████                          | 215kB 7.0MB/s eta 0:00:01\r\u001b[K     |██████▎                         | 225kB 7.0MB/s eta 0:00:01\r\u001b[K     |██████▌                         | 235kB 7.0MB/s eta 0:00:01\r\u001b[K     |██████▉                         | 245kB 7.0MB/s eta 0:00:01\r\u001b[K     |███████▏                        | 256kB 7.0MB/s eta 0:00:01\r\u001b[K     |███████▍                        | 266kB 7.0MB/s eta 0:00:01\r\u001b[K     |███████▊                        | 276kB 7.0MB/s eta 0:00:01\r\u001b[K     |████████                        | 286kB 7.0MB/s eta 0:00:01\r\u001b[K     |████████▎                       | 296kB 7.0MB/s eta 0:00:01\r\u001b[K     |████████▌                       | 307kB 7.0MB/s eta 0:00:01\r\u001b[K     |████████▉                       | 317kB 7.0MB/s eta 0:00:01\r\u001b[K     |█████████▏                      | 327kB 7.0MB/s eta 0:00:01\r\u001b[K     |█████████▍                      | 337kB 7.0MB/s eta 0:00:01\r\u001b[K     |█████████▊                      | 348kB 7.0MB/s eta 0:00:01\r\u001b[K     |██████████                      | 358kB 7.0MB/s eta 0:00:01\r\u001b[K     |██████████▎                     | 368kB 7.0MB/s eta 0:00:01\r\u001b[K     |██████████▌                     | 378kB 7.0MB/s eta 0:00:01\r\u001b[K     |██████████▉                     | 389kB 7.0MB/s eta 0:00:01\r\u001b[K     |███████████                     | 399kB 7.0MB/s eta 0:00:01\r\u001b[K     |███████████▍                    | 409kB 7.0MB/s eta 0:00:01\r\u001b[K     |███████████▊                    | 419kB 7.0MB/s eta 0:00:01\r\u001b[K     |████████████                    | 430kB 7.0MB/s eta 0:00:01\r\u001b[K     |████████████▎                   | 440kB 7.0MB/s eta 0:00:01\r\u001b[K     |████████████▌                   | 450kB 7.0MB/s eta 0:00:01\r\u001b[K     |████████████▉                   | 460kB 7.0MB/s eta 0:00:01\r\u001b[K     |█████████████                   | 471kB 7.0MB/s eta 0:00:01\r\u001b[K     |█████████████▍                  | 481kB 7.0MB/s eta 0:00:01\r\u001b[K     |█████████████▊                  | 491kB 7.0MB/s eta 0:00:01\r\u001b[K     |██████████████                  | 501kB 7.0MB/s eta 0:00:01\r\u001b[K     |██████████████▎                 | 512kB 7.0MB/s eta 0:00:01\r\u001b[K     |██████████████▌                 | 522kB 7.0MB/s eta 0:00:01\r\u001b[K     |██████████████▉                 | 532kB 7.0MB/s eta 0:00:01\r\u001b[K     |███████████████                 | 542kB 7.0MB/s eta 0:00:01\r\u001b[K     |███████████████▍                | 552kB 7.0MB/s eta 0:00:01\r\u001b[K     |███████████████▊                | 563kB 7.0MB/s eta 0:00:01\r\u001b[K     |████████████████                | 573kB 7.0MB/s eta 0:00:01\r\u001b[K     |████████████████▎               | 583kB 7.0MB/s eta 0:00:01\r\u001b[K     |████████████████▌               | 593kB 7.0MB/s eta 0:00:01\r\u001b[K     |████████████████▉               | 604kB 7.0MB/s eta 0:00:01\r\u001b[K     |█████████████████               | 614kB 7.0MB/s eta 0:00:01\r\u001b[K     |█████████████████▍              | 624kB 7.0MB/s eta 0:00:01\r\u001b[K     |█████████████████▋              | 634kB 7.0MB/s eta 0:00:01\r\u001b[K     |██████████████████              | 645kB 7.0MB/s eta 0:00:01\r\u001b[K     |██████████████████▎             | 655kB 7.0MB/s eta 0:00:01\r\u001b[K     |██████████████████▌             | 665kB 7.0MB/s eta 0:00:01\r\u001b[K     |██████████████████▉             | 675kB 7.0MB/s eta 0:00:01\r\u001b[K     |███████████████████             | 686kB 7.0MB/s eta 0:00:01\r\u001b[K     |███████████████████▍            | 696kB 7.0MB/s eta 0:00:01\r\u001b[K     |███████████████████▋            | 706kB 7.0MB/s eta 0:00:01\r\u001b[K     |████████████████████            | 716kB 7.0MB/s eta 0:00:01\r\u001b[K     |████████████████████▎           | 727kB 7.0MB/s eta 0:00:01\r\u001b[K     |████████████████████▌           | 737kB 7.0MB/s eta 0:00:01\r\u001b[K     |████████████████████▉           | 747kB 7.0MB/s eta 0:00:01\r\u001b[K     |█████████████████████           | 757kB 7.0MB/s eta 0:00:01\r\u001b[K     |█████████████████████▍          | 768kB 7.0MB/s eta 0:00:01\r\u001b[K     |█████████████████████▋          | 778kB 7.0MB/s eta 0:00:01\r\u001b[K     |██████████████████████          | 788kB 7.0MB/s eta 0:00:01\r\u001b[K     |██████████████████████▏         | 798kB 7.0MB/s eta 0:00:01\r\u001b[K     |██████████████████████▌         | 808kB 7.0MB/s eta 0:00:01\r\u001b[K     |██████████████████████▉         | 819kB 7.0MB/s eta 0:00:01\r\u001b[K     |███████████████████████         | 829kB 7.0MB/s eta 0:00:01\r\u001b[K     |███████████████████████▍        | 839kB 7.0MB/s eta 0:00:01\r\u001b[K     |███████████████████████▋        | 849kB 7.0MB/s eta 0:00:01\r\u001b[K     |████████████████████████        | 860kB 7.0MB/s eta 0:00:01\r\u001b[K     |████████████████████████▏       | 870kB 7.0MB/s eta 0:00:01\r\u001b[K     |████████████████████████▌       | 880kB 7.0MB/s eta 0:00:01\r\u001b[K     |████████████████████████▉       | 890kB 7.0MB/s eta 0:00:01\r\u001b[K     |█████████████████████████       | 901kB 7.0MB/s eta 0:00:01\r\u001b[K     |█████████████████████████▍      | 911kB 7.0MB/s eta 0:00:01\r\u001b[K     |█████████████████████████▋      | 921kB 7.0MB/s eta 0:00:01\r\u001b[K     |██████████████████████████      | 931kB 7.0MB/s eta 0:00:01\r\u001b[K     |██████████████████████████▏     | 942kB 7.0MB/s eta 0:00:01\r\u001b[K     |██████████████████████████▌     | 952kB 7.0MB/s eta 0:00:01\r\u001b[K     |██████████████████████████▉     | 962kB 7.0MB/s eta 0:00:01\r\u001b[K     |███████████████████████████     | 972kB 7.0MB/s eta 0:00:01\r\u001b[K     |███████████████████████████▍    | 983kB 7.0MB/s eta 0:00:01\r\u001b[K     |███████████████████████████▋    | 993kB 7.0MB/s eta 0:00:01\r\u001b[K     |████████████████████████████    | 1.0MB 7.0MB/s eta 0:00:01\r\u001b[K     |████████████████████████████▏   | 1.0MB 7.0MB/s eta 0:00:01\r\u001b[K     |████████████████████████████▌   | 1.0MB 7.0MB/s eta 0:00:01\r\u001b[K     |████████████████████████████▊   | 1.0MB 7.0MB/s eta 0:00:01\r\u001b[K     |█████████████████████████████   | 1.0MB 7.0MB/s eta 0:00:01\r\u001b[K     |█████████████████████████████▍  | 1.1MB 7.0MB/s eta 0:00:01\r\u001b[K     |█████████████████████████████▋  | 1.1MB 7.0MB/s eta 0:00:01\r\u001b[K     |██████████████████████████████  | 1.1MB 7.0MB/s eta 0:00:01\r\u001b[K     |██████████████████████████████▏ | 1.1MB 7.0MB/s eta 0:00:01\r\u001b[K     |██████████████████████████████▌ | 1.1MB 7.0MB/s eta 0:00:01\r\u001b[K     |██████████████████████████████▊ | 1.1MB 7.0MB/s eta 0:00:01\r\u001b[K     |███████████████████████████████ | 1.1MB 7.0MB/s eta 0:00:01\r\u001b[K     |███████████████████████████████▍| 1.1MB 7.0MB/s eta 0:00:01\r\u001b[K     |███████████████████████████████▋| 1.1MB 7.0MB/s eta 0:00:01\r\u001b[K     |████████████████████████████████| 1.1MB 7.0MB/s eta 0:00:01\r\u001b[K     |████████████████████████████████| 1.2MB 7.0MB/s \n",
            "\u001b[?25hRequirement already satisfied: numpy>=1.15 in /usr/local/lib/python3.7/dist-packages (from brian2) (1.19.5)\n",
            "Requirement already satisfied: cython>=0.29 in /usr/local/lib/python3.7/dist-packages (from brian2) (0.29.23)\n",
            "Requirement already satisfied: sympy>=1.2 in /usr/local/lib/python3.7/dist-packages (from brian2) (1.7.1)\n",
            "Requirement already satisfied: pyparsing in /usr/local/lib/python3.7/dist-packages (from brian2) (2.4.7)\n",
            "Requirement already satisfied: jinja2>=2.7 in /usr/local/lib/python3.7/dist-packages (from brian2) (2.11.3)\n",
            "Requirement already satisfied: setuptools>=24.2 in /usr/local/lib/python3.7/dist-packages (from brian2) (57.0.0)\n",
            "Requirement already satisfied: mpmath>=0.19 in /usr/local/lib/python3.7/dist-packages (from sympy>=1.2->brian2) (1.2.1)\n",
            "Requirement already satisfied: MarkupSafe>=0.23 in /usr/local/lib/python3.7/dist-packages (from jinja2>=2.7->brian2) (2.0.1)\n",
            "Building wheels for collected packages: brian2\n",
            "  Building wheel for brian2 (setup.py) ... \u001b[?25l\u001b[?25hdone\n",
            "  Created wheel for brian2: filename=Brian2-2.4.2-cp37-cp37m-linux_x86_64.whl size=1257133 sha256=7de94f0e6659a311e8b9c34284b0f2bf2e9ad174d8ac9cc43a7ba8713471e8d5\n",
            "  Stored in directory: /root/.cache/pip/wheels/5d/4b/cf/ef50e71df5479d67f981cbb17b1d842381019d27ba144d57de\n",
            "Successfully built brian2\n",
            "Installing collected packages: brian2\n",
            "Successfully installed brian2-2.4.2\n",
            "Collecting neurodynex3\n",
            "\u001b[?25l  Downloading https://files.pythonhosted.org/packages/87/31/725a4daa33508672f0f3e22fa224c2bc8261cc22a4e914f9d499fd540785/neurodynex3-1.0.3-py3-none-any.whl (75kB)\n",
            "\u001b[K     |████████████████████████████████| 81kB 5.5MB/s \n",
            "\u001b[?25hRequirement already satisfied: scipy in /usr/local/lib/python3.7/dist-packages (from neurodynex3) (1.4.1)\n",
            "Requirement already satisfied: mpmath in /usr/local/lib/python3.7/dist-packages (from neurodynex3) (1.2.1)\n",
            "Collecting mock\n",
            "  Downloading https://files.pythonhosted.org/packages/5c/03/b7e605db4a57c0f6fba744b11ef3ddf4ddebcada35022927a2b5fc623fdf/mock-4.0.3-py3-none-any.whl\n",
            "Requirement already satisfied: numpy in /usr/local/lib/python3.7/dist-packages (from neurodynex3) (1.19.5)\n",
            "Requirement already satisfied: matplotlib in /usr/local/lib/python3.7/dist-packages (from neurodynex3) (3.2.2)\n",
            "Collecting setuptools-scm\n",
            "  Downloading https://files.pythonhosted.org/packages/c4/d5/e50358c82026f44cd8810c8165002746cd3f8b78865f6bcf5d7f0fe4f652/setuptools_scm-6.0.1-py3-none-any.whl\n",
            "Requirement already satisfied: setuptools in /usr/local/lib/python3.7/dist-packages (from neurodynex3) (57.0.0)\n",
            "Collecting brian2==2.3\n",
            "\u001b[?25l  Downloading https://files.pythonhosted.org/packages/e6/ce/03f7807c36a4d75c67dc39d087b09e6be85bdff09825761f0f1c3d2061db/Brian2-2.3.tar.gz (1.6MB)\n",
            "\u001b[K     |████████████████████████████████| 1.6MB 17.0MB/s \n",
            "\u001b[?25hCollecting nose\n",
            "\u001b[?25l  Downloading https://files.pythonhosted.org/packages/15/d8/dd071918c040f50fa1cf80da16423af51ff8ce4a0f2399b7bf8de45ac3d9/nose-1.3.7-py3-none-any.whl (154kB)\n",
            "\u001b[K     |████████████████████████████████| 163kB 36.0MB/s \n",
            "\u001b[?25hRequirement already satisfied: pyparsing!=2.0.4,!=2.1.2,!=2.1.6,>=2.0.1 in /usr/local/lib/python3.7/dist-packages (from matplotlib->neurodynex3) (2.4.7)\n",
            "Requirement already satisfied: kiwisolver>=1.0.1 in /usr/local/lib/python3.7/dist-packages (from matplotlib->neurodynex3) (1.3.1)\n",
            "Requirement already satisfied: python-dateutil>=2.1 in /usr/local/lib/python3.7/dist-packages (from matplotlib->neurodynex3) (2.8.1)\n",
            "Requirement already satisfied: cycler>=0.10 in /usr/local/lib/python3.7/dist-packages (from matplotlib->neurodynex3) (0.10.0)\n",
            "Requirement already satisfied: cython>=0.29 in /usr/local/lib/python3.7/dist-packages (from brian2==2.3->neurodynex3) (0.29.23)\n",
            "Requirement already satisfied: sympy>=1.2 in /usr/local/lib/python3.7/dist-packages (from brian2==2.3->neurodynex3) (1.7.1)\n",
            "Requirement already satisfied: jinja2>=2.7 in /usr/local/lib/python3.7/dist-packages (from brian2==2.3->neurodynex3) (2.11.3)\n",
            "Requirement already satisfied: future in /usr/local/lib/python3.7/dist-packages (from brian2==2.3->neurodynex3) (0.16.0)\n",
            "Requirement already satisfied: six>=1.5 in /usr/local/lib/python3.7/dist-packages (from python-dateutil>=2.1->matplotlib->neurodynex3) (1.15.0)\n",
            "Requirement already satisfied: MarkupSafe>=0.23 in /usr/local/lib/python3.7/dist-packages (from jinja2>=2.7->brian2==2.3->neurodynex3) (2.0.1)\n",
            "Building wheels for collected packages: brian2\n",
            "  Building wheel for brian2 (setup.py) ... \u001b[?25l\u001b[?25hdone\n",
            "  Created wheel for brian2: filename=Brian2-2.3-cp37-cp37m-linux_x86_64.whl size=1283915 sha256=db304c8a41f5661de2be6d26ae70e4b542821962e63cbccf1375861278c014d3\n",
            "  Stored in directory: /root/.cache/pip/wheels/d0/53/ca/54953abc5f741ebd69a87da3b87f3630c5073d26d2d4426cc9\n",
            "Successfully built brian2\n",
            "Installing collected packages: mock, setuptools-scm, brian2, nose, neurodynex3\n",
            "  Found existing installation: Brian2 2.4.2\n",
            "    Uninstalling Brian2-2.4.2:\n",
            "      Successfully uninstalled Brian2-2.4.2\n",
            "Successfully installed brian2-2.3 mock-4.0.3 neurodynex3-1.0.3 nose-1.3.7 setuptools-scm-6.0.1\n"
          ],
          "name": "stdout"
        }
      ]
    },
    {
      "cell_type": "markdown",
      "metadata": {
        "id": "based-kelly"
      },
      "source": [
        "## Hopfield network model"
      ],
      "id": "based-kelly"
    },
    {
      "cell_type": "markdown",
      "metadata": {
        "id": "accessory-generic"
      },
      "source": [
        "In this simplified Hopfied model, each neuron can only take values +1 or -1. The network stores pixel patterns, and attempts to retrieve them given some cue in the form of a part of the original pattern used to set an initial state $S_i(t=0)$ for every neuron in the network. The network activation of all the neurons evolves as follows\n",
        "\n",
        "$$S_i(t+1) = sgn\\left(\\sum_j{w_{ij} S_j(t)}\\right), $$\n",
        "\n",
        "where the weight of every synaptic connection is calculated as,\n",
        "\n",
        "$$w_{ij} = \\frac{1}{N} \\sum_{\\mu}{p_i^\\mu p_j^\\mu}, $$\n",
        "\n",
        "where in turn, $N$ is the number of neurons, and $p_i^\\mu$ is the state of the $i^{th}$ neuron for encoding pattern $\\mu$."
      ],
      "id": "accessory-generic"
    },
    {
      "cell_type": "markdown",
      "metadata": {
        "id": "false-earth"
      },
      "source": [
        "The code below is taken from this [link](https://neuronaldynamics-exercises.readthedocs.io/en/latest/exercises/hopfield-network.html). Follow the accompanying exercises to be better prepared for your assignment. Remember to install all needed libraries before trying to run it. "
      ],
      "id": "false-earth"
    },
    {
      "cell_type": "code",
      "metadata": {
        "id": "several-documentation",
        "colab": {
          "base_uri": "https://localhost:8080/",
          "height": 404
        },
        "outputId": "f1df3a22-f601-4253-8f41-59906a4e23dc"
      },
      "source": [
        "%matplotlib inline\n",
        "from neurodynex3.hopfield_network import network, pattern_tools, plot_tools\n",
        "\n",
        "pattern_size = 5\n",
        "\n",
        "# create an instance of the class HopfieldNetwork\n",
        "hopfield_net = network.HopfieldNetwork(nr_neurons= pattern_size**2)\n",
        "# instantiate a pattern factory\n",
        "factory = pattern_tools.PatternFactory(pattern_size, pattern_size)\n",
        "# create a checkerboard pattern and add it to the pattern list\n",
        "checkerboard = factory.create_checkerboard()\n",
        "pattern_list = [checkerboard]\n",
        "\n",
        "# add random patterns to the list\n",
        "pattern_list.extend(factory.create_random_pattern_list(nr_patterns=4, on_probability=0.5))\n",
        "plot_tools.plot_pattern_list(pattern_list)\n",
        "# how similar are the random patterns and the checkerboard? Check the overlaps\n",
        "overlap_matrix = pattern_tools.compute_overlap_matrix(pattern_list)\n",
        "#plot_tools.plot_overlap_matrix(overlap_matrix)\n",
        "\n",
        "# let the hopfield network \"learn\" the patterns. Note: they are not stored\n",
        "# explicitly but only network weights are updated !\n",
        "hopfield_net.store_patterns(pattern_list)\n",
        "\n",
        "# create a noisy version of a pattern and use that to initialize the network\n",
        "noisy_init_state = pattern_tools.flip_n(checkerboard, nr_of_flips=4)\n",
        "hopfield_net.set_state_from_pattern(noisy_init_state)\n",
        "\n",
        "# from this initial state, let the network dynamics evolve.\n",
        "states = hopfield_net.run_with_monitoring(nr_steps=3)\n",
        "\n",
        "# each network state is a vector. reshape it to the same shape used to create the patterns.\n",
        "states_as_patterns = factory.reshape_patterns(states)\n",
        "# plot the states of the network\n",
        "plot_tools.plot_state_sequence_and_overlap(states_as_patterns, pattern_list, reference_idx=0, suptitle=\"Network dynamics\")\n"
      ],
      "id": "several-documentation",
      "execution_count": 32,
      "outputs": [
        {
          "output_type": "display_data",
          "data": {
            "image/png": "[encoded data removed]",
            "text/plain": [
              "<Figure size 432x288 with 5 Axes>"
            ]
          },
          "metadata": {
            "tags": [],
            "needs_background": "light"
          }
        },
        {
          "output_type": "stream",
          "text": [
            "\n"
          ],
          "name": "stdout"
        },
        {
          "output_type": "display_data",
          "data": {
            "image/png": "[encoded data removed]",
            "text/plain": [
              "<Figure size 432x288 with 8 Axes>"
            ]
          },
          "metadata": {
            "tags": [],
            "needs_background": "light"
          }
        }
      ]
    },
    {
      "cell_type": "markdown",
      "metadata": {
        "id": "upset-embassy"
      },
      "source": [
        "## Our own Hopfield network model"
      ],
      "id": "upset-embassy"
    },
    {
      "cell_type": "markdown",
      "metadata": {
        "id": "spectacular-morocco"
      },
      "source": [
        "You will write your own code to build a Hopfield network. I am leaving sample expected results below as a guide. \n",
        "\n",
        "You are free to use your own functions, no need to follow the guide  \n",
        "Function  \n",
        "1. get_patterns()  \n",
        "2. perturb_pattern()  \n",
        "3. calculate_weights()  \n",
        "4. network_evolution()  \n",
        "5. run_network()"
      ],
      "id": "spectacular-morocco"
    },
    {
      "cell_type": "code",
      "metadata": {
        "id": "UgqkH16Uky82"
      },
      "source": [
        "plist = get_patterns(4,5)\n",
        "#plot_tools.plot_pattern_list(plist)\n",
        "\n",
        "cue = deepcopy(plist)\n",
        "#print(plist[0])\n",
        "\n",
        "S = perturb_pattern(cue[0],3)\n",
        "wghts = calculate_weights(plist, 4, 5)\n",
        "#print(wghts)\n",
        "#print(wghts[15][15])\n",
        "state_list =[S]\n",
        "#state_list.append(S)\n",
        "#print(state_list)\n",
        "#plot_tools.plot_pattern(S)\n",
        "for i in range(3):\n",
        "    state_list.append(network_evolution(S,wghts))\n",
        "    S = state_list[i+1]\n",
        "#    state_list.append(S)\n",
        "\n",
        "plot_tools.plot_pattern_list(plist)\n",
        "#print(state_list[0])\n",
        "for i in range(4):\n",
        "  state_list[i] = state_list[i].reshape(4,4)\n",
        "\n",
        "plot_tools.plot_pattern(state_list[3].reshape(4,4))\n",
        "plot_tools.plot_state_sequence_and_overlap(state_list, plist, reference_idx=0, suptitle=\"Network dynamics\")"
      ],
      "id": "UgqkH16Uky82",
      "execution_count": null,
      "outputs": []
    },
    {
      "cell_type": "markdown",
      "metadata": {
        "id": "involved-batman"
      },
      "source": [
        "## Assignment 1"
      ],
      "id": "involved-batman"
    },
    {
      "cell_type": "markdown",
      "metadata": {
        "id": "uniform-samuel"
      },
      "source": [
        "Q1. Can you write you own Hopfield network model that works more or less like the one simulated above?\n",
        "\n",
        "Q2. Run the model with different parameters to figure out how the model's capacity to retrieve the correct pattern in response to a cue deteriorates as a function of   \n",
        "(a) the informativeness of the cue  \n",
        "(b) the number of other patterns stored in the network  \n",
        "(c) the size of the network  \n",
        "\n",
        "Present your answers with plots and/or math.\n",
        "\n",
        "You can use plot_tools as is"
      ],
      "id": "uniform-samuel"
    },
    {
      "cell_type": "code",
      "metadata": {
        "id": "secure-barbados"
      },
      "source": [
        "def get_patterns(size,num):\n",
        "    pl=[];\n",
        "    for i in range(0,num):\n",
        "       temp=(np.random.choice([-1,1],size=(size*size)))\n",
        "       temp= temp.reshape(size,size)\n",
        "       pl.append(temp)\n",
        "    return pl"
      ],
      "id": "secure-barbados",
      "execution_count": 3,
      "outputs": []
    },
    {
      "cell_type": "code",
      "metadata": {
        "id": "arMnb_GLDCEq"
      },
      "source": [
        "def perturb_pattern(cue,n):\n",
        "    s = cue.shape\n",
        "    temp = np.random.randint(0,cue.size,size = n)\n",
        "    cue = cue.flatten()\n",
        "    for i in temp:\n",
        "        cue[i] = 0\n",
        "    cue = cue.reshape(s)\n",
        "    return cue"
      ],
      "id": "arMnb_GLDCEq",
      "execution_count": 4,
      "outputs": []
    },
    {
      "cell_type": "code",
      "metadata": {
        "id": "A03hU030Da5T"
      },
      "source": [
        "def calculate_weights(pl, n):\n",
        "  n=n**2\n",
        "  w = np.zeros((n,n))\n",
        "  # print(w)\n",
        "  #print(len(pl))\n",
        "  for p in pl:\n",
        "    p = p.flatten().reshape((1,n))\n",
        "    #print(p.T)\n",
        "    w+=np.matmul(p.T,p)\n",
        "  w=w/n\n",
        "  return w"
      ],
      "id": "A03hU030Da5T",
      "execution_count": 5,
      "outputs": []
    },
    {
      "cell_type": "code",
      "metadata": {
        "id": "UlNroKMkDgGS"
      },
      "source": [
        "def network_evolution(S,W):\n",
        "    s = S.shape\n",
        "    n = S.size\n",
        "    S = S.reshape((1,n))\n",
        "    S = np.matmul(W, S.T)\n",
        "    S = S.reshape(s)\n",
        "    S = np.sign(S)\n",
        "    return S"
      ],
      "id": "UlNroKMkDgGS",
      "execution_count": 14,
      "outputs": []
    },
    {
      "cell_type": "code",
      "metadata": {
        "id": "Q52Y0qhwEZmx"
      },
      "source": [
        "def run_network(pattern_size,pattern_num,noise_flip,iter):\n",
        "  plist = get_patterns(pattern_size,pattern_num)\n",
        "  #plot_tools.plot_pattern_list(plist)\n",
        "\n",
        "  cue = deepcopy(plist)\n",
        "  S = perturb_pattern(cue[0],noise_flip)\n",
        "\n",
        "  state_list=[S]\n",
        "  plot_tools.plot_pattern(S)\n",
        "  wghts=calculate_weights(plist, pattern_size)\n",
        "  # print(S)\n",
        "  for i in range(iter):\n",
        "       S=network_evolution(S,wghts)\n",
        "       #  print(S)\n",
        "       state_list.append(S)\n",
        "  plot_tools.plot_pattern_list(plist)\n",
        "  #print(state_list[0])\n",
        "  #plot_tools.plot_pattern(state_list[0])\n",
        "  plot_tools.plot_state_sequence_and_overlap(state_list, plist, reference_idx=0, suptitle=\"Network dynamics\")"
      ],
      "id": "Q52Y0qhwEZmx",
      "execution_count": 7,
      "outputs": []
    },
    {
      "cell_type": "code",
      "metadata": {
        "id": "ruzg_BfyFBWU",
        "colab": {
          "base_uri": "https://localhost:8080/",
          "height": 602
        },
        "outputId": "a94e92f3-231c-4616-ea65-5d042dff8481"
      },
      "source": [
        "run_network(10,10,40,4)"
      ],
      "id": "ruzg_BfyFBWU",
      "execution_count": 34,
      "outputs": [
        {
          "output_type": "display_data",
          "data": {
            "image/png": "[encoded data removed]",
            "text/plain": [
              "<Figure size 432x288 with 1 Axes>"
            ]
          },
          "metadata": {
            "tags": [],
            "needs_background": "light"
          }
        },
        {
          "output_type": "display_data",
          "data": {
            "image/png": "[encoded data removed]",
            "text/plain": [
              "<Figure size 432x288 with 10 Axes>"
            ]
          },
          "metadata": {
            "tags": [],
            "needs_background": "light"
          }
        },
        {
          "output_type": "stream",
          "text": [
            "\n"
          ],
          "name": "stdout"
        },
        {
          "output_type": "display_data",
          "data": {
            "image/png": "[encoded data removed]",
            "text/plain": [
              "<Figure size 432x288 with 10 Axes>"
            ]
          },
          "metadata": {
            "tags": [],
            "needs_background": "light"
          }
        }
      ]
    },
    {
      "cell_type": "markdown",
      "metadata": {
        "id": "IAqS7unOwIPk"
      },
      "source": [
        "**Q2.**\n",
        "**(a) When the informativeness of the cue decreases(noise increases) it takes more number of iterations to retrieve the original state.**"
      ],
      "id": "IAqS7unOwIPk"
    },
    {
      "cell_type": "code",
      "metadata": {
        "colab": {
          "base_uri": "https://localhost:8080/",
          "height": 602
        },
        "id": "jRXtHkWptbT_",
        "outputId": "ac8fe10d-8942-452e-c68c-b6ebaa40dd66"
      },
      "source": [
        "run_network(10,10,80,4)"
      ],
      "id": "jRXtHkWptbT_",
      "execution_count": 58,
      "outputs": [
        {
          "output_type": "display_data",
          "data": {
            "image/png": "[encoded data removed]",
            "text/plain": [
              "<Figure size 432x288 with 1 Axes>"
            ]
          },
          "metadata": {
            "tags": [],
            "needs_background": "light"
          }
        },
        {
          "output_type": "display_data",
          "data": {
            "image/png": "[encoded data removed]",
            "text/plain": [
              "<Figure size 432x288 with 10 Axes>"
            ]
          },
          "metadata": {
            "tags": [],
            "needs_background": "light"
          }
        },
        {
          "output_type": "stream",
          "text": [
            "\n"
          ],
          "name": "stdout"
        },
        {
          "output_type": "display_data",
          "data": {
            "image/png": "[encoded data removed]",
            "text/plain": [
              "<Figure size 432x288 with 10 Axes>"
            ]
          },
          "metadata": {
            "tags": [],
            "needs_background": "light"
          }
        }
      ]
    },
    {
      "cell_type": "markdown",
      "metadata": {
        "id": "0AY0YK8exLyv"
      },
      "source": [
        "when it the number of noises are low, it takes lesser number of iterations to retrieve the pattern."
      ],
      "id": "0AY0YK8exLyv"
    },
    {
      "cell_type": "code",
      "metadata": {
        "colab": {
          "base_uri": "https://localhost:8080/",
          "height": 602
        },
        "id": "2PFGg_hFwuuJ",
        "outputId": "8305aad5-e827-40cf-a9a5-3e82e5c1c6d4"
      },
      "source": [
        "run_network(10,10,30,4)"
      ],
      "id": "2PFGg_hFwuuJ",
      "execution_count": 59,
      "outputs": [
        {
          "output_type": "display_data",
          "data": {
            "image/png": "[encoded data removed]",
            "text/plain": [
              "<Figure size 432x288 with 1 Axes>"
            ]
          },
          "metadata": {
            "tags": [],
            "needs_background": "light"
          }
        },
        {
          "output_type": "display_data",
          "data": {
            "image/png": "[encoded data removed]",
            "text/plain": [
              "<Figure size 432x288 with 10 Axes>"
            ]
          },
          "metadata": {
            "tags": [],
            "needs_background": "light"
          }
        },
        {
          "output_type": "stream",
          "text": [
            "\n"
          ],
          "name": "stdout"
        },
        {
          "output_type": "display_data",
          "data": {
            "image/png": "[encoded data removed]",
            "text/plain": [
              "<Figure size 432x288 with 10 Axes>"
            ]
          },
          "metadata": {
            "tags": [],
            "needs_background": "light"
          }
        }
      ]
    },
    {
      "cell_type": "markdown",
      "metadata": {
        "id": "5QkeMPR0xYO6"
      },
      "source": [
        "**(b) When the number of other patterns stored is high, it takes more number of iterations to retrieve the original state.**"
      ],
      "id": "5QkeMPR0xYO6"
    },
    {
      "cell_type": "code",
      "metadata": {
        "colab": {
          "base_uri": "https://localhost:8080/",
          "height": 602
        },
        "id": "v_WN3u34xEtf",
        "outputId": "2d23894c-c786-47f5-ce0e-3adfe6ec6889"
      },
      "source": [
        "run_network(10,10,50,4)"
      ],
      "id": "v_WN3u34xEtf",
      "execution_count": 73,
      "outputs": [
        {
          "output_type": "display_data",
          "data": {
            "image/png": "[encoded data removed]",
            "text/plain": [
              "<Figure size 432x288 with 1 Axes>"
            ]
          },
          "metadata": {
            "tags": [],
            "needs_background": "light"
          }
        },
        {
          "output_type": "display_data",
          "data": {
            "image/png": "[encoded data removed]",
            "text/plain": [
              "<Figure size 432x288 with 10 Axes>"
            ]
          },
          "metadata": {
            "tags": [],
            "needs_background": "light"
          }
        },
        {
          "output_type": "stream",
          "text": [
            "\n"
          ],
          "name": "stdout"
        },
        {
          "output_type": "display_data",
          "data": {
            "image/png": "[encoded data removed]",
            "text/plain": [
              "<Figure size 432x288 with 10 Axes>"
            ]
          },
          "metadata": {
            "tags": [],
            "needs_background": "light"
          }
        }
      ]
    },
    {
      "cell_type": "code",
      "metadata": {
        "colab": {
          "base_uri": "https://localhost:8080/",
          "height": 585
        },
        "id": "S0kop2PSxq-d",
        "outputId": "df29b643-063e-4a89-ca2d-1afc38bd71fc"
      },
      "source": [
        "run_network(10,21,50,4)"
      ],
      "id": "S0kop2PSxq-d",
      "execution_count": 79,
      "outputs": [
        {
          "output_type": "display_data",
          "data": {
            "image/png": "[encoded data removed]",
            "text/plain": [
              "<Figure size 432x288 with 1 Axes>"
            ]
          },
          "metadata": {
            "tags": [],
            "needs_background": "light"
          }
        },
        {
          "output_type": "display_data",
          "data": {
            "image/png": "[encoded data removed]",
            "text/plain": [
              "<Figure size 432x288 with 21 Axes>"
            ]
          },
          "metadata": {
            "tags": [],
            "needs_background": "light"
          }
        },
        {
          "output_type": "stream",
          "text": [
            "\n"
          ],
          "name": "stdout"
        },
        {
          "output_type": "display_data",
          "data": {
            "image/png": "[encoded data removed]",
            "text/plain": [
              "<Figure size 432x288 with 10 Axes>"
            ]
          },
          "metadata": {
            "tags": [],
            "needs_background": "light"
          }
        }
      ]
    },
    {
      "cell_type": "markdown",
      "metadata": {
        "id": "Dl8Iwfk9yz9g"
      },
      "source": [
        "**(c)When The network is increased.**"
      ],
      "id": "Dl8Iwfk9yz9g"
    },
    {
      "cell_type": "code",
      "metadata": {
        "colab": {
          "base_uri": "https://localhost:8080/",
          "height": 578
        },
        "id": "PMqu5vLRyHIW",
        "outputId": "f75bae83-6e4e-487b-e152-4363aaa3590c"
      },
      "source": [
        "run_network(20,40,100,4)"
      ],
      "id": "PMqu5vLRyHIW",
      "execution_count": 84,
      "outputs": [
        {
          "output_type": "display_data",
          "data": {
            "image/png": "[encoded data removed]",
            "text/plain": [
              "<Figure size 432x288 with 1 Axes>"
            ]
          },
          "metadata": {
            "tags": [],
            "needs_background": "light"
          }
        },
        {
          "output_type": "display_data",
          "data": {
            "image/png": "[encoded data removed]",
            "text/plain": [
              "<Figure size 432x288 with 40 Axes>"
            ]
          },
          "metadata": {
            "tags": [],
            "needs_background": "light"
          }
        },
        {
          "output_type": "stream",
          "text": [
            "\n"
          ],
          "name": "stdout"
        },
        {
          "output_type": "display_data",
          "data": {
            "image/png": "[encoded data removed]",
            "text/plain": [
              "<Figure size 432x288 with 10 Axes>"
            ]
          },
          "metadata": {
            "tags": [],
            "needs_background": "light"
          }
        }
      ]
    },
    {
      "cell_type": "code",
      "metadata": {
        "id": "79c-iCebyplN"
      },
      "source": [
        ""
      ],
      "id": "79c-iCebyplN",
      "execution_count": null,
      "outputs": []
    }
  ]
}